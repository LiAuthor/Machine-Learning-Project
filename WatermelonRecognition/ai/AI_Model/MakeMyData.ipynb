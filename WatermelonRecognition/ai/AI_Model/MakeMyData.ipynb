{
 "cells": [
  {
   "cell_type": "code",
   "execution_count": 2,
   "metadata": {},
   "outputs": [],
   "source": [
    "import numpy as np\n",
    "import h5py\n",
    "import matplotlib.pyplot as plt\n",
    "from skimage import transform,data\n",
    "import imageio\n",
    "from collections import Counter"
   ]
  },
  {
   "cell_type": "code",
   "execution_count": 5,
   "metadata": {},
   "outputs": [],
   "source": [
    "def load_dataset():\n",
    "    train_dataset = h5py.File('/home/li/Practive/DL_HomeWork/course1_week2/datasets/train_catvnoncat.h5', \"r\")\n",
    "    train_set_x_orig = np.array(train_dataset[\"train_set_x\"][:]) # your train set features\n",
    "    train_set_y_orig = np.array(train_dataset[\"train_set_y\"][:]) # your train set labels\n",
    "\n",
    "    test_dataset = h5py.File('/home/li/Practive/DL_HomeWork/course1_week2/datasets/test_catvnoncat.h5', \"r\")\n",
    "    test_set_x_orig = np.array(test_dataset[\"test_set_x\"][:]) # your test set features\n",
    "    test_set_y_orig = np.array(test_dataset[\"test_set_y\"][:]) # your test set labels\n",
    "\n",
    "    classes = np.array(test_dataset[\"list_classes\"][:]) # the list of classes\n",
    "    \n",
    "    train_set_y_orig = train_set_y_orig.reshape((1, train_set_y_orig.shape[0]))\n",
    "    test_set_y_orig = test_set_y_orig.reshape((1, test_set_y_orig.shape[0]))\n",
    "    \n",
    "    return train_set_x_orig, train_set_y_orig, test_set_x_orig, test_set_y_orig, classes"
   ]
  },
  {
   "cell_type": "code",
   "execution_count": 7,
   "metadata": {},
   "outputs": [],
   "source": [
    "train_set_x_orig , train_set_y , test_set_x_orig , test_set_y , classes = load_dataset()"
   ]
  },
  {
   "cell_type": "code",
   "execution_count": 20,
   "metadata": {},
   "outputs": [
    {
     "name": "stdout",
     "output_type": "stream",
     "text": [
      "Counter({0: 137, 1: 72})\n",
      "Counter({1: 33, 0: 17})\n"
     ]
    }
   ],
   "source": [
    "print(Counter(train_set_y[0]))\n",
    "print(Counter(test_set_y[0]))"
   ]
  },
  {
   "cell_type": "code",
   "execution_count": 7,
   "metadata": {},
   "outputs": [],
   "source": [
    "import os\n",
    "import numpy as np\n",
    "import h5py\n",
    "\n",
    "def get_files(file_dir):\n",
    "    #正类\n",
    "    Yes = []\n",
    "    label_Yes = []\n",
    "    #负类\n",
    "    No = []\n",
    "    label_No = []\n",
    "    \n",
    "    for file in os.listdir(file_dir+'/Yes'):\n",
    "        Yes.append(file_dir+'/Yes'+'/'+file)\n",
    "        label_Yes.append(1)\n",
    "        \n",
    "    for file in os.listdir(file_dir+'/No'):\n",
    "        No.append(file_dir+'/No'+'/'+file)\n",
    "        label_No.append(0)\n",
    "        \n",
    "    #合并数据集\n",
    "    image_list=np.hstack((Yes,No))\n",
    "    label_list=np.hstack((label_Yes,label_No))\n",
    "    \n",
    "    #打乱图片顺序\n",
    "    temp=np.array([image_list,label_list])\n",
    "    temp=temp.transpose()\n",
    "    np.random.shuffle(temp)\n",
    "    \n",
    "    #取出\n",
    "    image_list=list(temp[:,0])\n",
    "    label_list=list(temp[:,1])\n",
    "    label_list=[int(i) for i in label_list]\n",
    "    \n",
    "    return image_list,label_list"
   ]
  },
  {
   "cell_type": "code",
   "execution_count": 8,
   "metadata": {},
   "outputs": [],
   "source": [
    "image_list,label_list=get_files(\"/home/li/DataSet/cat\")"
   ]
  },
  {
   "cell_type": "code",
   "execution_count": 10,
   "metadata": {},
   "outputs": [],
   "source": [
    "#print(image_list)"
   ]
  },
  {
   "cell_type": "code",
   "execution_count": 11,
   "metadata": {},
   "outputs": [],
   "source": [
    "Train_image=np.random.rand(len(image_list)-68,64,64,3).astype('float32')\n",
    "Train_label=np.random.rand(len(image_list)-68,1).astype('float32')\n",
    "Test_image=np.random.rand(68,64,64,3).astype('float32')\n",
    "Test_label=np.random.rand(68,1).astype('float32')"
   ]
  },
  {
   "cell_type": "code",
   "execution_count": 12,
   "metadata": {},
   "outputs": [
    {
     "name": "stderr",
     "output_type": "stream",
     "text": [
      "/usr/lib/python3.9/site-packages/PIL/TiffImagePlugin.py:770: UserWarning: Possibly corrupt EXIF data.  Expecting to read 44 bytes but only got 40. Skipping tag 37510\n",
      "  warnings.warn(\n",
      "/usr/lib/python3.9/site-packages/PIL/TiffImagePlugin.py:770: UserWarning: Possibly corrupt EXIF data.  Expecting to read 8 bytes but only got 0. Skipping tag 41730\n",
      "  warnings.warn(\n"
     ]
    },
    {
     "name": "stdout",
     "output_type": "stream",
     "text": [
      "+++++++++++++++++++++++++++\n",
      "84\n",
      "+++++++++++++++++++++++++++\n",
      "151\n"
     ]
    }
   ],
   "source": [
    "sum=1\n",
    "for i in range(len(image_list)-68):\n",
    "    #print(i)\n",
    "    temp_image= np.array(imageio.imread(image_list[i]))\n",
    "    #print(temp_image.shape,temp_image.ndim)\n",
    "    if  temp_image.ndim==3:\n",
    "        if temp_image.shape[2]!=4:\n",
    "            Train_image[i]=transform.resize(temp_image,(64,64))\n",
    "            Train_label[i] = np.array(label_list[i])\n",
    "            sum+=1\n",
    "print(\"+++++++++++++++++++++++++++\")\n",
    "print(sum)\n",
    "for i in range(len(image_list)-68, len(image_list)):\n",
    "    #print(i)\n",
    "    temp_image=np.array(imageio.imread(image_list[i+68-len(image_list)] ))\n",
    "    #print(temp_image.shape)\n",
    "    if temp_image.ndim==3:\n",
    "        if temp_image.shape[2]!=4:\n",
    "            Test_image[i+68-len(image_list)]=transform.resize(temp_image,(64,64))\n",
    "            Test_label[i+68-len(image_list)] = np.array(label_list[i])\n",
    "            sum+=1\n",
    "print(\"+++++++++++++++++++++++++++\")\n",
    "print(sum)"
   ]
  },
  {
   "cell_type": "code",
   "execution_count": 14,
   "metadata": {},
   "outputs": [
    {
     "data": {
      "text/plain": [
       "<HDF5 dataset \"train_set_y\": shape (84, 1), type \"<f4\">"
      ]
     },
     "execution_count": 14,
     "metadata": {},
     "output_type": "execute_result"
    }
   ],
   "source": [
    "f=h5py.File('Train_Set_cat_1.h5','w')\n",
    "f.create_dataset('train_set_x',data=Train_image)\n",
    "f.create_dataset('train_set_y',data=Train_label)"
   ]
  },
  {
   "cell_type": "code",
   "execution_count": 15,
   "metadata": {},
   "outputs": [
    {
     "data": {
      "text/plain": [
       "<HDF5 dataset \"test_set_y\": shape (68, 1), type \"<f4\">"
      ]
     },
     "execution_count": 15,
     "metadata": {},
     "output_type": "execute_result"
    }
   ],
   "source": [
    "f=h5py.File('Test_Set_cat_1.h5','w')\n",
    "f.create_dataset('test_set_x',data=Test_image)\n",
    "f.create_dataset('test_set_y',data=Test_label)"
   ]
  },
  {
   "cell_type": "code",
   "execution_count": 17,
   "metadata": {},
   "outputs": [
    {
     "name": "stdout",
     "output_type": "stream",
     "text": [
      "(84, 64, 64, 3)\n",
      "[1.]\n"
     ]
    },
    {
     "data": {
      "text/plain": [
       "<matplotlib.image.AxesImage at 0x7f0bfa285ac0>"
      ]
     },
     "execution_count": 17,
     "metadata": {},
     "output_type": "execute_result"
    },
    {
     "data": {
      "image/png": "[encoded data removed]",
      "text/plain": [
       "<Figure size 432x288 with 1 Axes>"
      ]
     },
     "metadata": {
      "needs_background": "light"
     },
     "output_type": "display_data"
    }
   ],
   "source": [
    "Train_dataset=h5py.File('Train_Set_cat_1.h5','r')\n",
    "T_X=np.array(Train_dataset['train_set_x'][:])\n",
    "T_y=np.array(Train_dataset['train_set_y'][:])\n",
    "print(T_X.shape)\n",
    "index=10\n",
    "print(T_y[index])\n",
    "plt.imshow(T_X[index])\n",
    "#plt.savefig('fig_dog.png')\n",
    "#imageio.imwrite('test.jpg',T_X[18])\n",
    "#print(T_X.ndim)"
   ]
  },
  {
   "cell_type": "code",
   "execution_count": 13,
   "metadata": {},
   "outputs": [],
   "source": [
    "#for i in range(len(Train_dataset[\"train_set_x\"])):\n",
    "#    imageio.imwrite('/home/li/images/DOG_LOOK/{}.jpg'.format(i),T_X[i])"
   ]
  },
  {
   "cell_type": "code",
   "execution_count": 31,
   "metadata": {},
   "outputs": [],
   "source": [
    "import imageio"
   ]
  },
  {
   "cell_type": "code",
   "execution_count": 32,
   "metadata": {},
   "outputs": [],
   "source": [
    "import h5py\n",
    "import numpy as np\n",
    "from scipy.misc import imsave\n",
    "from skimage import transform\n",
    "import imageio\n",
    "\n",
    "train_dataset = h5py.File('/home/li/Practive/DL_HomeWork/course1_week4/C4W1/datasets/train_catvnoncat.h5', \"r\")"
   ]
  },
  {
   "cell_type": "code",
   "execution_count": 38,
   "metadata": {},
   "outputs": [
    {
     "name": "stdout",
     "output_type": "stream",
     "text": [
      "209\n"
     ]
    }
   ],
   "source": [
    "print(len(train_dataset[\"train_set_x\"]))\n",
    "train_set_x_orig = np.array(train_dataset[\"train_set_x\"][:])\n",
    "train_set_y_orig = np.array(train_dataset[\"train_set_y\"][:])"
   ]
  },
  {
   "cell_type": "code",
   "execution_count": 87,
   "metadata": {},
   "outputs": [],
   "source": [
    "def predict(X, y, parameters):\n",
    "    \"\"\"\n",
    "    该函数用于预测L层神经网络的结果，当然也包含两层\n",
    "\n",
    "    参数：\n",
    "     X - 测试集\n",
    "     y - 标签\n",
    "     parameters - 训练模型的参数\n",
    "\n",
    "    返回：\n",
    "     p - 给定数据集X的预测\n",
    "    \"\"\"\n",
    "\n",
    "    m = X.shape[1]\n",
    "    n = len(parameters) // 2  # 神经网络的层数\n",
    "    p = np.zeros((1, m))\n",
    "\n",
    "    # 根据参数前向传播\n",
    "    probas, caches = L_model_forward(X, parameters)\n",
    "    print(type(probas))\n",
    "    print(probas.shape)\n",
    "    for i in range(0, probas.shape[1]):\n",
    "        if probas[0][i] > 0.5:\n",
    "            p[0][i] = 1\n",
    "        else:\n",
    "            p[0][i] = 0\n",
    "\n",
    "    print(\"准确度为: \" + str(float(np.sum((p == y))/m)))\n",
    "    return p"
   ]
  },
  {
   "cell_type": "code",
   "execution_count": 43,
   "metadata": {},
   "outputs": [],
   "source": [
    "for i in range(len(train_dataset[\"train_set_x\"])):\n",
    "    imageio.imwrite('/home/li/images/CAT_LOOK/{}.jpg'.format(i),train_set_x_orig[i])"
   ]
  },
  {
   "cell_type": "code",
   "execution_count": 77,
   "metadata": {},
   "outputs": [
    {
     "name": "stdout",
     "output_type": "stream",
     "text": [
      "0.7057808137095358\n",
      "0.7057808137095358\n"
     ]
    }
   ],
   "source": [
    "b=np.random.rand(2,10)\n",
    "print(b[0,3])\n",
    "print(b[0][3])"
   ]
  },
  {
   "cell_type": "code",
   "execution_count": 85,
   "metadata": {},
   "outputs": [],
   "source": [
    "a=np.array([[1,2,3,4],[4,3,2,1]])\n",
    "b=np.array([[1,2,2,2],[3,4,2,1]])"
   ]
  },
  {
   "cell_type": "code",
   "execution_count": 86,
   "metadata": {},
   "outputs": [
    {
     "data": {
      "text/plain": [
       "4"
      ]
     },
     "execution_count": 86,
     "metadata": {},
     "output_type": "execute_result"
    }
   ],
   "source": [
    "np.sum((a==b))"
   ]
  }
 ],
 "metadata": {
  "kernelspec": {
   "display_name": "Python 3",
   "language": "python",
   "name": "python3"
  },
  "language_info": {
   "codemirror_mode": {
    "name": "ipython",
    "version": 3
   },
   "file_extension": ".py",
   "mimetype": "text/x-python",
   "name": "python",
   "nbconvert_exporter": "python",
   "pygments_lexer": "ipython3",
   "version": "3.9.1"
  }
 },
 "nbformat": 4,
 "nbformat_minor": 4
}
